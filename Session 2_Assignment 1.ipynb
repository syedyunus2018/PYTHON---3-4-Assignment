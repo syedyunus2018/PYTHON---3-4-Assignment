{
 "cells": [
  {
   "cell_type": "raw",
   "metadata": {},
   "source": [
    "Task 1:\n",
    "1.1 Write a Python Program to implement your own myreduce() function which works exactly like Python's built-in function reduce()."
   ]
  },
  {
   "cell_type": "code",
   "execution_count": 1,
   "metadata": {},
   "outputs": [
    {
     "name": "stdout",
     "output_type": "stream",
     "text": [
      "Using Python's built-in reduce() function :  113\n",
      "Using my own myreduce() function:  113\n"
     ]
    }
   ],
   "source": [
    "'''\n",
    "This program implements myreduce() function which works exactly like Python's built-in function reduce().\n",
    "'''\n",
    "from functools import reduce #Importing reduce from functools package\n",
    "\n",
    "def myreduce(func, sequence): #Defining the myreduce function which takes two arguments (function and sequence) and returns a list\n",
    "    itr = iter(sequence)    \n",
    "    try:\n",
    "        start = next(itr)\n",
    "    except StopIteration:\n",
    "        raise TypeError(\"Calling myreduce() with empty sequence having no initial value\")        \n",
    "    accum_value = 0    \n",
    "    for y in sequence:\n",
    "        accum_value = func(accum_value, y)        \n",
    "    return accum_value\n",
    "    \n",
    "def sum_of_num(x,y): #Defining sum_of_num function which returns of sum of two numbers passed as arguments\n",
    "    return x+y\n",
    "\n",
    "test_list = [47,11,42,13]\n",
    "\n",
    "print(\"Using Python's built-in reduce() function : \", reduce(sum_of_num, test_list))\n",
    "print(\"Using my own myreduce() function: \",myreduce(sum_of_num, test_list))"
   ]
  },
  {
   "cell_type": "raw",
   "metadata": {},
   "source": [
    "1.2 Write a Python program to implement your own myfilter() function which works exactly like Python's built-in function filter()."
   ]
  },
  {
   "cell_type": "code",
   "execution_count": 2,
   "metadata": {},
   "outputs": [
    {
     "name": "stdout",
     "output_type": "stream",
     "text": [
      "Using Python's built-in filter() function :  [42, 34, 64, 48]\n",
      "Using my own myfilter() function:  [42, 34, 64, 48]\n"
     ]
    }
   ],
   "source": [
    "'''\n",
    "This program implements myfilter() function which works exactly like Python's built-in function filter().\n",
    "'''\n",
    "def myfilter(func, sequence ): #Defining the myfilter function which takes two arguments ( function and sequence ) and returns a list   \n",
    "    itr = iter(sequence)\n",
    "    filter_list=[]\n",
    "    for x in itr:\n",
    "       if(func(x)):                \n",
    "            filter_list.append(x)      \n",
    "    return filter_list\n",
    "\n",
    "def is_even_num(x): #Defining is_even_num function which takes an integer argument and return True if number is even and False otherwise\n",
    "    if x%2 ==0:\n",
    "        return True\n",
    "    return False\n",
    "    \n",
    "test_list = [47,11,42,13,34,64,23,45,48]\n",
    "\n",
    "print(\"Using Python's built-in filter() function : \",list(filter(is_even_num , test_list)) )\n",
    "print(\"Using my own myfilter() function: \",myfilter(is_even_num , test_list ))"
   ]
  },
  {
   "cell_type": "raw",
   "metadata": {},
   "source": [
    "2. Implement List comprehensions to produce the following lists. Write List comprehensions to produce the following Lists.\n",
    "['A', 'C', 'A', 'D', 'G', 'I', ’L’, ‘ D’]\n",
    "['x', 'xx', 'xxx', 'xxxx', 'y', 'yy', 'yyy', 'yyyy', 'z', 'zz', 'zzz', 'zzzz']\n",
    "['x', 'y', 'z', 'xx', 'yy', 'zz', 'xx', 'yy', 'zz', 'xxxx', 'yyyy', 'zzzz']\n",
    "[[2], [3], [4], [3], [4], [5], [4], [5], [6]]\n",
    "[[2, 3, 4, 5], [3, 4, 5, 6], [4, 5, 6, 7], [5, 6, 7, 8]]\n",
    "[(1, 1), (2, 1), (3, 1), (1, 2), (2, 2), (3, 2), (1, 3), (2, 3), (3, 3)]"
   ]
  },
  {
   "cell_type": "code",
   "execution_count": 3,
   "metadata": {},
   "outputs": [
    {
     "name": "stdout",
     "output_type": "stream",
     "text": [
      "['A', 'C', 'A', 'D', 'G', 'I', 'L', 'D']\n",
      "['x', 'xx', 'xxx', 'xxxx', 'y', 'yy', 'yyy', 'yyyy', 'z', 'zz', 'zzz', 'zzzz']\n",
      "['x', 'y', 'z', 'xx', 'yy', 'zz', 'xx', 'yy', 'zz', 'xxxx', 'yyyy', 'zzzz']\n",
      "[[2], [3], [4], [3], [4], [5], [4], [5], [6]]\n",
      "[[2, 3, 4, 5], [3, 4, 5, 6], [4, 5, 6, 7], [5, 6, 7, 8]]\n",
      "[(1, 1), (2, 1), (3, 1), (1, 2), (2, 2), (3, 2), (1, 3), (2, 3), (3, 3)]\n"
     ]
    }
   ],
   "source": [
    "'''\n",
    "This program produces the specified list using list comprehensions. \n",
    "'''\n",
    "result_list_1 = list(\"ACADGILD\")\n",
    "print(result_list_1)\n",
    "\n",
    "result_list_2 =list(i*j for i in \"xyz\" for j in range(1,5))\n",
    "print(result_list_2)\n",
    "\n",
    "list_3 = [1,2,2,4]\n",
    "result_list_3 = list(i*j for j in list_3 for i in \"xyz\")\n",
    "print(result_list_3)\n",
    "\n",
    "\n",
    "list_4 = [2,3,4]\n",
    "result_list_4 = list([i+n] for i in list_4 for n in range(0,3))\n",
    "print(result_list_4)\n",
    "\n",
    "list_5 = [2,3,4,5]\n",
    "result_list_5 = list([i + n for i in list_5] for n in range(0,4))\n",
    "print(result_list_5)\n",
    "\n",
    "list_6=[1,2,3]\n",
    "result_list_6 = list((b,a) for a in list_6 for b in list_6)\n",
    "print(result_list_6)"
   ]
  },
  {
   "cell_type": "raw",
   "metadata": {},
   "source": [
    "3. Implement a function longestWord() that takes a list of words and returns the longest one."
   ]
  },
  {
   "cell_type": "code",
   "execution_count": 4,
   "metadata": {},
   "outputs": [
    {
     "data": {
      "text/plain": [
       "'AcadGild'"
      ]
     },
     "execution_count": 4,
     "metadata": {},
     "output_type": "execute_result"
    }
   ],
   "source": [
    "'''\n",
    "This program implements function longestWord() that takes a list of words and returns the longest one.\n",
    "'''\n",
    "def longestWord(list_of_words): #Defining longestword function which takes list of words as argument and returns the longest word\n",
    "    longest_word = list_of_words[0] \n",
    "    for word in list_of_words:\n",
    "        if len(longest_word) < len(word):\n",
    "            longest_word = word\n",
    "    return longest_word\n",
    "\n",
    "test_list = ['Hello','AcadGild', 'Data', 'Science', 'Masters','Course']\n",
    "\n",
    "longestWord(test_list)"
   ]
  },
  {
   "cell_type": "raw",
   "metadata": {},
   "source": [
    "Task 2:\n",
    "1.1 Write a Python Program(with class concepts) to find the area of the triangle using the below formula.\n",
    "area = (s*(s-a)*(s-b)*(s-c)) ** 0.5\n",
    "\n",
    "Function to take the length of the sides of triangle from user should be defined in the parent class and function to calculate the area should be defined in subclass."
   ]
  },
  {
   "cell_type": "code",
   "execution_count": 5,
   "metadata": {},
   "outputs": [
    {
     "name": "stdout",
     "output_type": "stream",
     "text": [
      "Area of the triangle of sides (a=3, b=4, c=5) : 6.0\n"
     ]
    }
   ],
   "source": [
    "'''\n",
    "This program finds the area of the triangle using formula: area = (s(s-a)(s-b)(s-c)) ** 0.5, where s=(a+b+c)*0.5. Function to take the length of the sides of triangle from user should be defined in the parent class and function to calculate the area should be defined in subclass.\n",
    "'''\n",
    "class Triangle(): #Defining Triangle Class : Parent class\n",
    "    \n",
    "    def __init__(self, a,b,c):\n",
    "        self.a = a\n",
    "        self.b = b\n",
    "        self.c = c\n",
    "        \n",
    "class AreaOfTriangle(Triangle): #Defining AreaOfTriangle Class : Subclass of Triangle parent class\n",
    "    \n",
    "    def __init__(self, a,b,c):\n",
    "        Triangle.__init__(self, a,b,c)\n",
    "        \n",
    "    def get_area(self): #Defining get_area function which returns area of the triangle of the given sides of triangle\n",
    "        s = (self.a + self.b + self.c) * 0.5\n",
    "        return (s*(s-self.a)*(s-self.b)*(s-self.c)) ** 0.5\n",
    "    \n",
    "triangle = AreaOfTriangle(3,4,5)\n",
    "print(\"Area of the triangle of sides (a=3, b=4, c=5) :\" ,triangle.get_area())"
   ]
  },
  {
   "cell_type": "raw",
   "metadata": {},
   "source": [
    "1.2 Write a function filter_long_words() that takes a list of words and an integer n and returns the list of words that are longer than n."
   ]
  },
  {
   "cell_type": "code",
   "execution_count": 6,
   "metadata": {},
   "outputs": [
    {
     "data": {
      "text/plain": [
       "['AcadGild', 'Science', 'Masters', 'Course']"
      ]
     },
     "execution_count": 6,
     "metadata": {},
     "output_type": "execute_result"
    }
   ],
   "source": [
    "'''\n",
    "This program implements function filter_long_words() that takes a list of words and an integer n and returns the list of words that are longer than n\n",
    "'''\n",
    "\n",
    "def filter_long_words(list_of_words, n): #Defining filter_long_words function which takes list of the words and integer n as argument and returns a list of word which are longer than n\n",
    "    result_list = []\n",
    "    for word in list_of_words:\n",
    "        if len(word) > n:\n",
    "            result_list.append(word)\n",
    "    return result_list\n",
    "\n",
    "test_list = ['Hello','AcadGild', 'Data', 'Science', 'Masters','Course']\n",
    "\n",
    "filter_long_words(test_list, 5)"
   ]
  },
  {
   "cell_type": "raw",
   "metadata": {},
   "source": [
    "2.1 Write a Python program using function concept that maps list of words into a list of integers representing the lengths of the corresponding words .\n",
    "Hint: If a list [ ab,cde,erty] is passed on to the python function output should come as [2,3,4] \n",
    "Here 2,3 and 4 are the lengths of the words in the list."
   ]
  },
  {
   "cell_type": "code",
   "execution_count": 7,
   "metadata": {},
   "outputs": [
    {
     "data": {
      "text/plain": [
       "[5, 8, 4, 7, 7, 6]"
      ]
     },
     "execution_count": 7,
     "metadata": {},
     "output_type": "execute_result"
    }
   ],
   "source": [
    "'''\n",
    "This program implements a function that maps list of words into a list of integers representing the lengths of the corresponding words .\n",
    "'''\n",
    "def maps_length_list_of_words(list_of_words): #Defining maps_length_list_of_words function which takes list of words as an argument and returns the list of lengths of the corresponding words     \n",
    "    result_list = list(map(lambda x: len(x), list_of_words))\n",
    "    return result_list    \n",
    "\n",
    "test_list = ['Hello','AcadGild', 'Data', 'Science', 'Masters','Course']\n",
    "\n",
    "maps_length_list_of_words(test_list)"
   ]
  },
  {
   "cell_type": "raw",
   "metadata": {},
   "source": [
    "2.2 Write a Python function which takes a character (i.e. a string of length 1) and returns True if it is a vowel, False otherwise."
   ]
  },
  {
   "cell_type": "code",
   "execution_count": 8,
   "metadata": {},
   "outputs": [
    {
     "name": "stdout",
     "output_type": "stream",
     "text": [
      "True\n",
      "False\n"
     ]
    }
   ],
   "source": [
    "'''\n",
    "This program implements a function check_if_vowel(char) which takes a character and returns True if it is a vowel, False otherwise.\n",
    "'''\n",
    "def check_if_vowel(char): #Defining check_if_vowel function which takes a character as an argument and returns True if it is vowels and False otherwise\n",
    "    vowels = ['a','e','i','o','u']\n",
    "    if char in vowels:\n",
    "        return True\n",
    "    return False\n",
    "\n",
    "print(check_if_vowel('a'))\n",
    "print(check_if_vowel('s'))"
   ]
  },
  {
   "cell_type": "code",
   "execution_count": null,
   "metadata": {},
   "outputs": [],
   "source": []
  }
 ],
 "metadata": {
  "kernelspec": {
   "display_name": "Python 3",
   "language": "python",
   "name": "python3"
  },
  "language_info": {
   "codemirror_mode": {
    "name": "ipython",
    "version": 3
   },
   "file_extension": ".py",
   "mimetype": "text/x-python",
   "name": "python",
   "nbconvert_exporter": "python",
   "pygments_lexer": "ipython3",
   "version": "3.7.0"
  }
 },
 "nbformat": 4,
 "nbformat_minor": 2
}
